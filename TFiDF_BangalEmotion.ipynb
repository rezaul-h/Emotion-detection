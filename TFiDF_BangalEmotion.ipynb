{
 "cells": [
  {
   "cell_type": "code",
   "execution_count": 1,
   "metadata": {
    "executionInfo": {
     "elapsed": 69,
     "status": "ok",
     "timestamp": 1647949033513,
     "user": {
      "displayName": "Mahedi Hassan Ratul",
      "photoUrl": "https://lh3.googleusercontent.com/a-/AOh14GgSHaL-yqr53Txfy2EGVnF4_8rC4vvHOL8ZVpNbuw=s64",
      "userId": "16365986714512941363"
     },
     "user_tz": -360
    },
    "id": "sA07IuUQSFBU"
   },
   "outputs": [],
   "source": [
    "import pandas as pd \n",
    "import numpy as np\n",
    "import matplotlib.pyplot as plt\n",
    "import seaborn as sns\n",
    "import re\n",
    "import string\n",
    "from sklearn.model_selection import train_test_split\n",
    "from sklearn.multiclass import OneVsRestClassifier\n",
    "import seaborn as sn\n",
    "\n",
    "import warnings\n",
    "warnings.filterwarnings(\"ignore\")"
   ]
  },
  {
   "cell_type": "code",
   "execution_count": 2,
   "metadata": {
    "executionInfo": {
     "elapsed": 72,
     "status": "ok",
     "timestamp": 1647949033517,
     "user": {
      "displayName": "Mahedi Hassan Ratul",
      "photoUrl": "https://lh3.googleusercontent.com/a-/AOh14GgSHaL-yqr53Txfy2EGVnF4_8rC4vvHOL8ZVpNbuw=s64",
      "userId": "16365986714512941363"
     },
     "user_tz": -360
    },
    "id": "Lqg64nolUZKP"
   },
   "outputs": [],
   "source": [
    "PATH = \"F:\\\\Ml files\\\\Emotion detection\\\\Data\\\\\""
   ]
  },
  {
   "cell_type": "code",
   "execution_count": 3,
   "metadata": {},
   "outputs": [
    {
     "data": {
      "text/html": [
       "<div>\n",
       "<style scoped>\n",
       "    .dataframe tbody tr th:only-of-type {\n",
       "        vertical-align: middle;\n",
       "    }\n",
       "\n",
       "    .dataframe tbody tr th {\n",
       "        vertical-align: top;\n",
       "    }\n",
       "\n",
       "    .dataframe thead th {\n",
       "        text-align: right;\n",
       "    }\n",
       "</style>\n",
       "<table border=\"1\" class=\"dataframe\">\n",
       "  <thead>\n",
       "    <tr style=\"text-align: right;\">\n",
       "      <th></th>\n",
       "      <th>text</th>\n",
       "      <th>emotion</th>\n",
       "    </tr>\n",
       "  </thead>\n",
       "  <tbody>\n",
       "    <tr>\n",
       "      <th>0</th>\n",
       "      <td>নাইমা কর জানি</td>\n",
       "      <td>sad</td>\n",
       "    </tr>\n",
       "    <tr>\n",
       "      <th>1</th>\n",
       "      <td>ভাই আপনা ভাল লাগ</td>\n",
       "      <td>happy</td>\n",
       "    </tr>\n",
       "    <tr>\n",
       "      <th>2</th>\n",
       "      <td>গাঞ্জা খাইয়া নিউজ শেয় দিগন্ত বয়কটে জরিমানা না</td>\n",
       "      <td>anger</td>\n",
       "    </tr>\n",
       "    <tr>\n",
       "      <th>3</th>\n",
       "      <td>ধন্যবাদ স্ যশোরে অনুষ্ঠান র জন্য</td>\n",
       "      <td>happy</td>\n",
       "    </tr>\n",
       "    <tr>\n",
       "      <th>4</th>\n",
       "      <td>বর্তমানে মুসলমান মারে যে হয় ঈশ্বর</td>\n",
       "      <td>disgust</td>\n",
       "    </tr>\n",
       "  </tbody>\n",
       "</table>\n",
       "</div>"
      ],
      "text/plain": [
       "                                               text  emotion\n",
       "0                                     নাইমা কর জানি      sad\n",
       "1                                  ভাই আপনা ভাল লাগ    happy\n",
       "2  গাঞ্জা খাইয়া নিউজ শেয় দিগন্ত বয়কটে জরিমানা না    anger\n",
       "3                  ধন্যবাদ স্ যশোরে অনুষ্ঠান র জন্য    happy\n",
       "4                 বর্তমানে মুসলমান মারে যে হয় ঈশ্বর  disgust"
      ]
     },
     "execution_count": 3,
     "metadata": {},
     "output_type": "execute_result"
    }
   ],
   "source": [
    "data = pd.read_csv(PATH+\"Bangla/BD_EMOTIONS_cleaned.csv\")\n",
    "data.head()"
   ]
  },
  {
   "cell_type": "code",
   "execution_count": 4,
   "metadata": {
    "colab": {
     "base_uri": "https://localhost:8080/",
     "height": 468
    },
    "executionInfo": {
     "elapsed": 69,
     "status": "ok",
     "timestamp": 1647949033521,
     "user": {
      "displayName": "Mahedi Hassan Ratul",
      "photoUrl": "https://lh3.googleusercontent.com/a-/AOh14GgSHaL-yqr53Txfy2EGVnF4_8rC4vvHOL8ZVpNbuw=s64",
      "userId": "16365986714512941363"
     },
     "user_tz": -360
    },
    "id": "rHrCbF0UEJhT",
    "outputId": "27c0238d-308c-42c2-8452-b26fc966147e"
   },
   "outputs": [
    {
     "data": {
      "text/html": [
       "<div>\n",
       "<style scoped>\n",
       "    .dataframe tbody tr th:only-of-type {\n",
       "        vertical-align: middle;\n",
       "    }\n",
       "\n",
       "    .dataframe tbody tr th {\n",
       "        vertical-align: top;\n",
       "    }\n",
       "\n",
       "    .dataframe thead th {\n",
       "        text-align: right;\n",
       "    }\n",
       "</style>\n",
       "<table border=\"1\" class=\"dataframe\">\n",
       "  <thead>\n",
       "    <tr style=\"text-align: right;\">\n",
       "      <th></th>\n",
       "      <th>text</th>\n",
       "      <th>emotion</th>\n",
       "    </tr>\n",
       "  </thead>\n",
       "  <tbody>\n",
       "    <tr>\n",
       "      <th>0</th>\n",
       "      <td>নাইমা কর জানি</td>\n",
       "      <td>sad</td>\n",
       "    </tr>\n",
       "    <tr>\n",
       "      <th>1</th>\n",
       "      <td>ভাই আপনা ভাল লাগ</td>\n",
       "      <td>happy</td>\n",
       "    </tr>\n",
       "    <tr>\n",
       "      <th>2</th>\n",
       "      <td>গাঞ্জা খাইয়া নিউজ শেয় দিগন্ত বয়কটে জরিমানা না</td>\n",
       "      <td>anger</td>\n",
       "    </tr>\n",
       "    <tr>\n",
       "      <th>3</th>\n",
       "      <td>ধন্যবাদ স্ যশোরে অনুষ্ঠান র জন্য</td>\n",
       "      <td>happy</td>\n",
       "    </tr>\n",
       "    <tr>\n",
       "      <th>4</th>\n",
       "      <td>বর্তমানে মুসলমান মারে যে হয় ঈশ্বর</td>\n",
       "      <td>disgust</td>\n",
       "    </tr>\n",
       "    <tr>\n",
       "      <th>...</th>\n",
       "      <td>...</td>\n",
       "      <td>...</td>\n",
       "    </tr>\n",
       "    <tr>\n",
       "      <th>14329</th>\n",
       "      <td>হেতিরে যে মন চায় ভাই সালির গাছ লা দরক n</td>\n",
       "      <td>anger</td>\n",
       "    </tr>\n",
       "    <tr>\n",
       "      <th>14330</th>\n",
       "      <td>হেতিরে যে মন চায় ভাই সালির গাছ লা দরক n</td>\n",
       "      <td>anger</td>\n",
       "    </tr>\n",
       "    <tr>\n",
       "      <th>14331</th>\n",
       "      <td>মাগি n</td>\n",
       "      <td>disgust</td>\n",
       "    </tr>\n",
       "    <tr>\n",
       "      <th>14332</th>\n",
       "      <td>কিস মন্রী পদক্ষেপ নিল না বড় বড় কথা বলবেননা মান...</td>\n",
       "      <td>disgust</td>\n",
       "    </tr>\n",
       "    <tr>\n",
       "      <th>14333</th>\n",
       "      <td>প্রতি প্রয়োজনে টাকা সন্তান তারা এক রাষ্ট্রীয় অ...</td>\n",
       "      <td>disgust</td>\n",
       "    </tr>\n",
       "  </tbody>\n",
       "</table>\n",
       "<p>14334 rows × 2 columns</p>\n",
       "</div>"
      ],
      "text/plain": [
       "                                                    text  emotion\n",
       "0                                          নাইমা কর জানি      sad\n",
       "1                                       ভাই আপনা ভাল লাগ    happy\n",
       "2       গাঞ্জা খাইয়া নিউজ শেয় দিগন্ত বয়কটে জরিমানা না    anger\n",
       "3                       ধন্যবাদ স্ যশোরে অনুষ্ঠান র জন্য    happy\n",
       "4                      বর্তমানে মুসলমান মারে যে হয় ঈশ্বর  disgust\n",
       "...                                                  ...      ...\n",
       "14329            হেতিরে যে মন চায় ভাই সালির গাছ লা দরক n    anger\n",
       "14330            হেতিরে যে মন চায় ভাই সালির গাছ লা দরক n    anger\n",
       "14331                                             মাগি n  disgust\n",
       "14332  কিস মন্রী পদক্ষেপ নিল না বড় বড় কথা বলবেননা মান...  disgust\n",
       "14333  প্রতি প্রয়োজনে টাকা সন্তান তারা এক রাষ্ট্রীয় অ...  disgust\n",
       "\n",
       "[14334 rows x 2 columns]"
      ]
     },
     "execution_count": 4,
     "metadata": {},
     "output_type": "execute_result"
    }
   ],
   "source": [
    "data.fillna(0)"
   ]
  },
  {
   "cell_type": "code",
   "execution_count": 5,
   "metadata": {},
   "outputs": [],
   "source": [
    "data['emotion'] = data['emotion'].replace(['happy','sad','anger','disgust', 'surprise','fear', 'none'], [1,2,3,4,5,6,7])"
   ]
  },
  {
   "cell_type": "code",
   "execution_count": 6,
   "metadata": {
    "colab": {
     "base_uri": "https://localhost:8080/"
    },
    "executionInfo": {
     "elapsed": 68,
     "status": "ok",
     "timestamp": 1647949033523,
     "user": {
      "displayName": "Mahedi Hassan Ratul",
      "photoUrl": "https://lh3.googleusercontent.com/a-/AOh14GgSHaL-yqr53Txfy2EGVnF4_8rC4vvHOL8ZVpNbuw=s64",
      "userId": "16365986714512941363"
     },
     "user_tz": -360
    },
    "id": "t112ZwVOE7Qb",
    "outputId": "3b16dc35-de3a-4e4b-d092-248612c63792"
   },
   "outputs": [
    {
     "data": {
      "text/plain": [
       "1    3622\n",
       "2    2710\n",
       "3    2670\n",
       "4    2364\n",
       "5    1411\n",
       "6    1347\n",
       "7     210\n",
       "Name: emotion, dtype: int64"
      ]
     },
     "execution_count": 6,
     "metadata": {},
     "output_type": "execute_result"
    }
   ],
   "source": [
    "data.emotion.value_counts()"
   ]
  },
  {
   "cell_type": "code",
   "execution_count": 7,
   "metadata": {
    "colab": {
     "base_uri": "https://localhost:8080/"
    },
    "executionInfo": {
     "elapsed": 59,
     "status": "ok",
     "timestamp": 1647949033525,
     "user": {
      "displayName": "Mahedi Hassan Ratul",
      "photoUrl": "https://lh3.googleusercontent.com/a-/AOh14GgSHaL-yqr53Txfy2EGVnF4_8rC4vvHOL8ZVpNbuw=s64",
      "userId": "16365986714512941363"
     },
     "user_tz": -360
    },
    "id": "qKHIOEEoH__L",
    "outputId": "3b088184-a4d6-4072-8378-b2c6d076aa4b"
   },
   "outputs": [],
   "source": [
    "data['text'] = data['text'].str.replace(r'\\s+', ' ')"
   ]
  },
  {
   "cell_type": "code",
   "execution_count": 8,
   "metadata": {
    "colab": {
     "base_uri": "https://localhost:8080/",
     "height": 35
    },
    "executionInfo": {
     "elapsed": 54,
     "status": "ok",
     "timestamp": 1647949033526,
     "user": {
      "displayName": "Mahedi Hassan Ratul",
      "photoUrl": "https://lh3.googleusercontent.com/a-/AOh14GgSHaL-yqr53Txfy2EGVnF4_8rC4vvHOL8ZVpNbuw=s64",
      "userId": "16365986714512941363"
     },
     "user_tz": -360
    },
    "id": "mW8G1GYtJRWI",
    "outputId": "1f7cf329-45b0-42de-b7c0-0f70d4189de3"
   },
   "outputs": [
    {
     "data": {
      "text/plain": [
       "'গাঞ্জা খাইয়া নিউজ শেয় দিগন্ত বয়কটে জরিমানা না'"
      ]
     },
     "execution_count": 8,
     "metadata": {},
     "output_type": "execute_result"
    }
   ],
   "source": [
    "data.text[2]"
   ]
  },
  {
   "cell_type": "markdown",
   "metadata": {},
   "source": [
    "## Data Split \n",
    "\n",
    "## (Training : 80% and Testing 20% )"
   ]
  },
  {
   "cell_type": "code",
   "execution_count": 9,
   "metadata": {},
   "outputs": [
    {
     "name": "stdout",
     "output_type": "stream",
     "text": [
      "(11467,)\n",
      "(2867,)\n",
      "(11467,)\n",
      "(2867,)\n"
     ]
    }
   ],
   "source": [
    "data.text =  data.text.apply(str)\n",
    "X = data['text']\n",
    "Y = data['emotion']\n",
    "X_train, X_test, y_train, y_test = train_test_split(X, Y, test_size=0.2, random_state = 42)\n",
    "\n",
    "#checking...\n",
    "print(X_train.shape)\n",
    "print(X_test.shape)\n",
    "print(y_train.shape)\n",
    "print(y_test.shape)\n"
   ]
  },
  {
   "cell_type": "code",
   "execution_count": 10,
   "metadata": {
    "executionInfo": {
     "elapsed": 48,
     "status": "ok",
     "timestamp": 1647949033530,
     "user": {
      "displayName": "Mahedi Hassan Ratul",
      "photoUrl": "https://lh3.googleusercontent.com/a-/AOh14GgSHaL-yqr53Txfy2EGVnF4_8rC4vvHOL8ZVpNbuw=s64",
      "userId": "16365986714512941363"
     },
     "user_tz": -360
    },
    "id": "nUlRlcjEPub6"
   },
   "outputs": [],
   "source": [
    "X_train = X_train.replace((np.inf, -np.inf, np.nan), 0).reset_index(drop=True)\n",
    "X_test = X_test.replace((np.inf, -np.inf, np.nan), 0).reset_index(drop=True)\n",
    "y_train = y_train.replace((np.inf, -np.inf, np.nan), 0).reset_index(drop=True)\n",
    "y_test = y_test.replace((np.inf, -np.inf, np.nan), 0).reset_index(drop=True)\n"
   ]
  },
  {
   "cell_type": "code",
   "execution_count": 11,
   "metadata": {
    "executionInfo": {
     "elapsed": 48,
     "status": "ok",
     "timestamp": 1647949033531,
     "user": {
      "displayName": "Mahedi Hassan Ratul",
      "photoUrl": "https://lh3.googleusercontent.com/a-/AOh14GgSHaL-yqr53Txfy2EGVnF4_8rC4vvHOL8ZVpNbuw=s64",
      "userId": "16365986714512941363"
     },
     "user_tz": -360
    },
    "id": "jrx2seOvM0U5"
   },
   "outputs": [],
   "source": [
    "from sklearn.pipeline import Pipeline\n",
    "from sklearn.feature_extraction.text import TfidfVectorizer\n",
    "from sklearn.metrics import accuracy_score\n",
    "import numpy as np\n",
    "import matplotlib.pyplot as plt"
   ]
  },
  {
   "cell_type": "markdown",
   "metadata": {},
   "source": [
    "## Model Development \n",
    "\n",
    "### Pipeline creation using TFIDF, One VS rest classifier and several ML models"
   ]
  },
  {
   "cell_type": "markdown",
   "metadata": {},
   "source": [
    "### Multinomial Naive Bayes"
   ]
  },
  {
   "cell_type": "code",
   "execution_count": 12,
   "metadata": {},
   "outputs": [
    {
     "name": "stdout",
     "output_type": "stream",
     "text": [
      "accuracy 0.49319846529473316\n"
     ]
    }
   ],
   "source": [
    "# Define a pipeline combining a text feature extractor with multi lable classifier\n",
    "from sklearn.naive_bayes import MultinomialNB\n",
    "TFIDF_NB_pipeline = Pipeline([\n",
    "\n",
    "                ('tfidf', TfidfVectorizer(tokenizer=lambda x: x.split(),lowercase=False,max_features=2000, min_df=1,ngram_range=(1,2))),\n",
    "                \n",
    "                ('clf', OneVsRestClassifier(MultinomialNB(\n",
    "                    alpha=0.15,fit_prior=True, class_prior=None))),\n",
    "            ])\n",
    "\n",
    "TFIDF_NB_pipeline.fit(X_train, y_train)\n",
    "TFIDF_NB_pipeline_prediction = TFIDF_NB_pipeline.predict(X_test)\n",
    "\n",
    "\n",
    "print('accuracy %s' % accuracy_score(TFIDF_NB_pipeline_prediction, y_test))\n"
   ]
  },
  {
   "cell_type": "markdown",
   "metadata": {},
   "source": [
    "### SGD Classifier"
   ]
  },
  {
   "cell_type": "code",
   "execution_count": 15,
   "metadata": {},
   "outputs": [
    {
     "name": "stdout",
     "output_type": "stream",
     "text": [
      "accuracy 0.83985421\n"
     ]
    }
   ],
   "source": [
    "from sklearn.linear_model import SGDClassifier\n",
    "TFIDF_SGD_pipeline = Pipeline([\n",
    "                               \n",
    "                ('tfidf', TfidfVectorizer(tokenizer=lambda x: x.split(),lowercase=False,max_features=13000,min_df=1,ngram_range=(1,2))),\n",
    "                ('clf',OneVsRestClassifier(SGDClassifier(loss='hinge', penalty='l2', alpha=1e-4, random_state=42, max_iter=100, tol=None)))\n",
    "            ])\n",
    "\n",
    "TFIDF_SGD_pipeline.fit(X_train, y_train)\n",
    "TFIDF_SGD_pipeline_prediction = TFIDF_SGD_pipeline.predict(X_test)\n",
    "\n",
    "\n",
    "print('accuracy %s' % accuracy_score(TFIDF_SGD_pipeline_prediction, y_test))\n"
   ]
  },
  {
   "cell_type": "markdown",
   "metadata": {},
   "source": [
    "### Logistric Regeression"
   ]
  },
  {
   "cell_type": "code",
   "execution_count": 16,
   "metadata": {},
   "outputs": [
    {
     "name": "stdout",
     "output_type": "stream",
     "text": [
      "accuracy 0.84985963\n"
     ]
    }
   ],
   "source": [
    "from sklearn.linear_model import LogisticRegression\n",
    "TFIDF_LR_pipeline = Pipeline([\n",
    "\n",
    "                ('tfidf', TfidfVectorizer(tokenizer=lambda x: x.split(),lowercase=False,max_features=5000,min_df=4,ngram_range=(1,2))),\n",
    "                ('clf', OneVsRestClassifier(LogisticRegression(multi_class='ovr',solver='liblinear',C=1,random_state=42,tol=0.0001,max_iter=300)))\n",
    "            ])\n",
    "\n",
    "TFIDF_LR_pipeline.fit(X_train, y_train)\n",
    "TFIDF_LR_pipeline_prediction = TFIDF_LR_pipeline.predict(X_test)\n",
    "\n",
    "\n",
    "print('accuracy %s' % accuracy_score(TFIDF_LR_pipeline_prediction, y_test))"
   ]
  },
  {
   "cell_type": "markdown",
   "metadata": {},
   "source": [
    "### Random Forest Classifier"
   ]
  },
  {
   "cell_type": "code",
   "execution_count": 17,
   "metadata": {},
   "outputs": [
    {
     "name": "stdout",
     "output_type": "stream",
     "text": [
      "accuracy 0.89221593\n"
     ]
    }
   ],
   "source": [
    "from sklearn.ensemble import RandomForestClassifier\n",
    "TFIDF_RF_pipeline = Pipeline([\n",
    "                ('tfidf', TfidfVectorizer(tokenizer=lambda x: x.split(),lowercase=False,max_features=11000,min_df=1,ngram_range=(1,2))),\n",
    "                ('clf', OneVsRestClassifier(RandomForestClassifier(n_estimators=500,criterion ='entropy')))\n",
    "            ])\n",
    "\n",
    "\n",
    "TFIDF_RF_pipeline.fit(X_train, y_train)\n",
    "TFIDF_RF_pipeline_prediction = TFIDF_RF_pipeline.predict(X_test)\n",
    "\n",
    "print('accuracy %s' % accuracy_score(TFIDF_RF_pipeline_prediction, y_test))\n"
   ]
  },
  {
   "cell_type": "markdown",
   "metadata": {},
   "source": [
    "### XGBClassifier"
   ]
  },
  {
   "cell_type": "code",
   "execution_count": 18,
   "metadata": {},
   "outputs": [
    {
     "name": "stdout",
     "output_type": "stream",
     "text": [
      "accuracy 0.81027536\n"
     ]
    }
   ],
   "source": [
    "import xgboost as xgb\n",
    "TFIDF_XGB_pipeline = Pipeline([\n",
    "                               \n",
    "                ('tfidf', TfidfVectorizer(tokenizer=lambda x: x.split(),lowercase=False,max_features=10000,min_df=5,ngram_range=(1,2))),\n",
    "                ('clf', OneVsRestClassifier(xgb.XGBClassifier(n_jobs=1)))\n",
    "            ])\n",
    "\n",
    "\n",
    "TFIDF_XGB_pipeline.fit(X_train, y_train)\n",
    "TFIDF_XGB_pipeline_prediction = TFIDF_XGB_pipeline.predict(X_test)\n",
    "\n",
    "print('accuracy %s' % accuracy_score(TFIDF_XGB_pipeline_prediction, y_test))"
   ]
  },
  {
   "cell_type": "markdown",
   "metadata": {},
   "source": [
    "### SVC (kernel = linear) "
   ]
  },
  {
   "cell_type": "code",
   "execution_count": 19,
   "metadata": {},
   "outputs": [
    {
     "name": "stdout",
     "output_type": "stream",
     "text": [
      "accuracy 0.83601478\n"
     ]
    }
   ],
   "source": [
    "# svc linear kernel\n",
    "from sklearn.svm import SVC\n",
    "TFIDF_SVC_linear_pipeline = Pipeline([\n",
    "                               \n",
    "                ('tfidf', TfidfVectorizer(tokenizer=lambda x: x.split(),lowercase=False,max_features=13000,min_df=3,ngram_range=(1,2))),\n",
    "                ('clf', OneVsRestClassifier(SVC(random_state=42,kernel='linear')))\n",
    "            ])\n",
    "\n",
    "\n",
    "TFIDF_SVC_linear_pipeline.fit(X_train, y_train)\n",
    "TFIDF_SVC_linear_pipeline_prediction = TFIDF_SVC_linear_pipeline.predict(X_test)\n",
    "\n",
    "print('accuracy %s' % accuracy_score(TFIDF_SVC_linear_pipeline_prediction, y_test))\n"
   ]
  },
  {
   "cell_type": "markdown",
   "metadata": {},
   "source": [
    "### Decision Tree Classifier"
   ]
  },
  {
   "cell_type": "code",
   "execution_count": 20,
   "metadata": {},
   "outputs": [
    {
     "name": "stdout",
     "output_type": "stream",
     "text": [
      "accuracy 0.72826935\n"
     ]
    }
   ],
   "source": [
    "from sklearn.tree import DecisionTreeClassifier\n",
    "TFIDF_DT_pipeline = Pipeline([\n",
    "                               \n",
    "                ('tfidf', TfidfVectorizer(tokenizer=lambda x: x.split(),lowercase=False,max_features=13000,min_df=3,ngram_range=(1,2))),\n",
    "                ('clf', OneVsRestClassifier(DecisionTreeClassifier(random_state=43, max_depth=71)))\n",
    "            ])\n",
    "\n",
    "\n",
    "TFIDF_DT_pipeline.fit(X_train, y_train)\n",
    "TFIDF_DT_pipeline_prediction = TFIDF_DT_pipeline.predict(X_test)\n",
    "\n",
    "print('accuracy %s' % accuracy_score(TFIDF_DT_pipeline_prediction, y_test))\n",
    "\n"
   ]
  },
  {
   "cell_type": "markdown",
   "metadata": {},
   "source": [
    "### KNeighbors Classifier"
   ]
  },
  {
   "cell_type": "code",
   "execution_count": 21,
   "metadata": {},
   "outputs": [
    {
     "name": "stdout",
     "output_type": "stream",
     "text": [
      "accuracy 0.55971236\n"
     ]
    }
   ],
   "source": [
    "from sklearn.neighbors import KNeighborsClassifier\n",
    "TFIDF_NearestNeighbors_pipeline = Pipeline([\n",
    "                               \n",
    "                ('tfidf', TfidfVectorizer(tokenizer=lambda x: x.split(),lowercase=False,max_features=9000,min_df=2,ngram_range=(1,2))),\n",
    "                ('clf', OneVsRestClassifier(KNeighborsClassifier(n_neighbors=25)))\n",
    "            ])\n",
    "\n",
    "\n",
    "TFIDF_NearestNeighbors_pipeline.fit(X_train, y_train)\n",
    "TFIDF_NearestNeighbors_pipeline_prediction = TFIDF_NearestNeighbors_pipeline.predict(X_test)\n",
    "\n",
    "print('accuracy %s' % accuracy_score(TFIDF_NearestNeighbors_pipeline_prediction, y_test))\n",
    "\n"
   ]
  },
  {
   "cell_type": "markdown",
   "metadata": {},
   "source": [
    "### SVC (kernel = rbf) "
   ]
  },
  {
   "cell_type": "code",
   "execution_count": 23,
   "metadata": {},
   "outputs": [
    {
     "name": "stdout",
     "output_type": "stream",
     "text": [
      "accuracy 0.85239736\n"
     ]
    }
   ],
   "source": [
    "#RB SVM\n",
    "from sklearn.svm import SVC\n",
    "TFIDF_svc_rbf_pipeline = Pipeline([\n",
    "                               \n",
    "                ('tfidf', TfidfVectorizer(tokenizer=lambda x: x.split(),lowercase=False,max_features=9000,min_df=2,ngram_range=(1,2))),\n",
    "                ('clf', OneVsRestClassifier(SVC(random_state=42, kernel='rbf')))\n",
    "            ])\n",
    "\n",
    "\n",
    "TFIDF_svc_rbf_pipeline.fit(X_train, y_train)\n",
    "TFIDF_svc_rbf_pipeline_prediction = TFIDF_svc_rbf_pipeline.predict(X_test)\n",
    "\n",
    "print('accuracy %s' % accuracy_score(TFIDF_svc_rbf_pipeline_prediction, y_test))\n",
    "\n"
   ]
  },
  {
   "cell_type": "markdown",
   "metadata": {},
   "source": [
    "### Passive Aggressive Classifier"
   ]
  },
  {
   "cell_type": "code",
   "execution_count": 24,
   "metadata": {},
   "outputs": [
    {
     "name": "stdout",
     "output_type": "stream",
     "text": [
      "accuracy 0.76769711\n"
     ]
    }
   ],
   "source": [
    "#RB PassiveAggressiveClassifier\n",
    "from sklearn.linear_model import PassiveAggressiveClassifier\n",
    "TFIDF_PassiveAggressive_pipeline = Pipeline([\n",
    "                               \n",
    "                ('tfidf', TfidfVectorizer(tokenizer=lambda x: x.split(),lowercase=False,max_features=9000,min_df=1,ngram_range=(1,2))),\n",
    "                ('clf', OneVsRestClassifier(PassiveAggressiveClassifier(random_state=42,max_iter=500,tol=None)))\n",
    "            ])\n",
    "\n",
    "\n",
    "TFIDF_PassiveAggressive_pipeline.fit(X_train, y_train)\n",
    "TFIDF_PassiveAggressive_pipeline_prediction = TFIDF_PassiveAggressive_pipeline.predict(X_test)\n",
    "\n",
    "print('accuracy %s' % accuracy_score(TFIDF_PassiveAggressive_pipeline_prediction, y_test))\n"
   ]
  },
  {
   "cell_type": "markdown",
   "metadata": {},
   "source": [
    "## AdaBoost Classifier"
   ]
  },
  {
   "cell_type": "code",
   "execution_count": 25,
   "metadata": {},
   "outputs": [
    {
     "name": "stdout",
     "output_type": "stream",
     "text": [
      "accuracy 0.79279715\n"
     ]
    }
   ],
   "source": [
    "#AdaBoostClassifier\n",
    "from sklearn.ensemble import AdaBoostClassifier\n",
    "\n",
    "TFIDF_ada_pipeline = Pipeline([\n",
    "                               \n",
    "                ('tfidf', TfidfVectorizer(tokenizer=lambda x: x.split(),lowercase=False,max_features=9000,min_df=1,ngram_range=(1,2))),\n",
    "                ('clf', OneVsRestClassifier(AdaBoostClassifier(n_estimators=100, random_state=0)))\n",
    "            ])\n",
    "\n",
    "\n",
    "TFIDF_ada_pipeline.fit(X_train, y_train)\n",
    "TFIDF_ada_pipeline_prediction = TFIDF_ada_pipeline.predict(X_test)\n",
    "\n",
    "print('accuracy %s' % accuracy_score(TFIDF_ada_pipeline_prediction, y_test))\n"
   ]
  },
  {
   "cell_type": "markdown",
   "metadata": {},
   "source": [
    "### Bagging Classifier"
   ]
  },
  {
   "cell_type": "code",
   "execution_count": 26,
   "metadata": {},
   "outputs": [
    {
     "name": "stdout",
     "output_type": "stream",
     "text": [
      "accuracy 0.832899647\n"
     ]
    }
   ],
   "source": [
    "#BaggingClassifier\n",
    "from sklearn.ensemble import BaggingClassifier\n",
    "TFIDF_Bagging_pipeline = Pipeline([\n",
    "                               \n",
    "                ('tfidf', TfidfVectorizer(tokenizer=lambda x: x.split(),lowercase=False,max_features=8000,min_df=1,ngram_range=(1,2))),\n",
    "                ('clf', BaggingClassifier(base_estimator=SVC(),n_estimators=10, random_state=42))\n",
    "            ])\n",
    "\n",
    "\n",
    "TFIDF_Bagging_pipeline.fit(X_train, y_train)\n",
    "TFIDF_Bagging_pipeline_prediction = TFIDF_Bagging_pipeline.predict(X_test)\n",
    "\n",
    "print('accuracy %s' % accuracy_score(TFIDF_Bagging_pipeline_prediction, y_test))\n"
   ]
  },
  {
   "cell_type": "markdown",
   "metadata": {},
   "source": [
    "### Gradient Boosting Classifier"
   ]
  },
  {
   "cell_type": "code",
   "execution_count": 27,
   "metadata": {},
   "outputs": [
    {
     "name": "stdout",
     "output_type": "stream",
     "text": [
      "accuracy 0.772999015\n"
     ]
    }
   ],
   "source": [
    " #GradientBoostingClassifier\n",
    "from sklearn.ensemble import GradientBoostingClassifier\n",
    "TFIDF_GB_pipeline = Pipeline([\n",
    "                               \n",
    "                ('tfidf', TfidfVectorizer(tokenizer=lambda x: x.split(),lowercase=False,max_features=9000,min_df=1,ngram_range=(1,2))),\n",
    "                ('clf', OneVsRestClassifier(GradientBoostingClassifier(n_estimators=100, learning_rate=1.0,max_depth=1, random_state=42)))\n",
    "            ])\n",
    "\n",
    "\n",
    "TFIDF_GB_pipeline.fit(X_train, y_train)\n",
    "TFIDF_GB_pipeline_prediction = TFIDF_GB_pipeline.predict(X_test)\n",
    "\n",
    "print('accuracy %s' % accuracy_score(TFIDF_GB_pipeline_prediction, y_test))\n"
   ]
  },
  {
   "cell_type": "markdown",
   "metadata": {},
   "source": [
    "### ExtraTrees Classifier"
   ]
  },
  {
   "cell_type": "code",
   "execution_count": 28,
   "metadata": {},
   "outputs": [
    {
     "name": "stdout",
     "output_type": "stream",
     "text": [
      "accuracy 0.819645201\n"
     ]
    }
   ],
   "source": [
    "#ExtraTreesClassifier\n",
    "from sklearn.ensemble import ExtraTreesClassifier\n",
    "TFIDF_EXT_pipeline = Pipeline([\n",
    "                               \n",
    "                ('tfidf', TfidfVectorizer(tokenizer=lambda x: x.split(),lowercase=False,max_features=9000,min_df=1,ngram_range=(1,2))),\n",
    "                ('clf', ExtraTreesClassifier(n_estimators=100, random_state=42))\n",
    "            ])\n",
    "\n",
    "\n",
    "TFIDF_EXT_pipeline.fit(X_train, y_train)\n",
    "TFIDF_EXT_pipeline_prediction = TFIDF_EXT_pipeline.predict(X_test)\n",
    "\n",
    "print('accuracy %s' % accuracy_score(TFIDF_EXT_pipeline_prediction, y_test))"
   ]
  },
  {
   "cell_type": "markdown",
   "metadata": {},
   "source": [
    "## Result Evaluation"
   ]
  },
  {
   "cell_type": "code",
   "execution_count": 33,
   "metadata": {},
   "outputs": [
    {
     "data": {
      "text/html": [
       "<div>\n",
       "<style scoped>\n",
       "    .dataframe tbody tr th:only-of-type {\n",
       "        vertical-align: middle;\n",
       "    }\n",
       "\n",
       "    .dataframe tbody tr th {\n",
       "        vertical-align: top;\n",
       "    }\n",
       "\n",
       "    .dataframe thead th {\n",
       "        text-align: right;\n",
       "    }\n",
       "</style>\n",
       "<table border=\"1\" class=\"dataframe\">\n",
       "  <thead>\n",
       "    <tr style=\"text-align: right;\">\n",
       "      <th></th>\n",
       "      <th>Name</th>\n",
       "      <th>Test Accuracy</th>\n",
       "      <th>Precision</th>\n",
       "      <th>Recall</th>\n",
       "      <th>F1 Score</th>\n",
       "    </tr>\n",
       "  </thead>\n",
       "  <tbody>\n",
       "    <tr>\n",
       "      <th>0</th>\n",
       "      <td>LR</td>\n",
       "      <td>0.8430</td>\n",
       "      <td>0.833386</td>\n",
       "      <td>0.820118</td>\n",
       "      <td>0.820506</td>\n",
       "    </tr>\n",
       "    <tr>\n",
       "      <th>1</th>\n",
       "      <td>SVC-rbf</td>\n",
       "      <td>0.8423</td>\n",
       "      <td>0.832688</td>\n",
       "      <td>0.819420</td>\n",
       "      <td>0.838238</td>\n",
       "    </tr>\n",
       "    <tr>\n",
       "      <th>2</th>\n",
       "      <td>SGD</td>\n",
       "      <td>0.8398</td>\n",
       "      <td>0.830247</td>\n",
       "      <td>0.816979</td>\n",
       "      <td>0.842486</td>\n",
       "    </tr>\n",
       "    <tr>\n",
       "      <th>3</th>\n",
       "      <td>SVC-linear</td>\n",
       "      <td>0.8360</td>\n",
       "      <td>0.826410</td>\n",
       "      <td>0.813142</td>\n",
       "      <td>0.840626</td>\n",
       "    </tr>\n",
       "    <tr>\n",
       "      <th>4</th>\n",
       "      <td>BAG</td>\n",
       "      <td>0.8328</td>\n",
       "      <td>0.823271</td>\n",
       "      <td>0.810003</td>\n",
       "      <td>0.807292</td>\n",
       "    </tr>\n",
       "    <tr>\n",
       "      <th>5</th>\n",
       "      <td>RF</td>\n",
       "      <td>0.8322</td>\n",
       "      <td>0.822573</td>\n",
       "      <td>0.809305</td>\n",
       "      <td>0.818401</td>\n",
       "    </tr>\n",
       "    <tr>\n",
       "      <th>6</th>\n",
       "      <td>EXT</td>\n",
       "      <td>0.8196</td>\n",
       "      <td>0.810017</td>\n",
       "      <td>0.796748</td>\n",
       "      <td>0.814083</td>\n",
       "    </tr>\n",
       "    <tr>\n",
       "      <th>7</th>\n",
       "      <td>MNB</td>\n",
       "      <td>0.8182</td>\n",
       "      <td>0.808621</td>\n",
       "      <td>0.795353</td>\n",
       "      <td>0.789665</td>\n",
       "    </tr>\n",
       "    <tr>\n",
       "      <th>8</th>\n",
       "      <td>XGB</td>\n",
       "      <td>0.8102</td>\n",
       "      <td>0.800599</td>\n",
       "      <td>0.787331</td>\n",
       "      <td>0.797966</td>\n",
       "    </tr>\n",
       "    <tr>\n",
       "      <th>9</th>\n",
       "      <td>ADB</td>\n",
       "      <td>0.7927</td>\n",
       "      <td>0.783159</td>\n",
       "      <td>0.769891</td>\n",
       "      <td>0.787474</td>\n",
       "    </tr>\n",
       "    <tr>\n",
       "      <th>10</th>\n",
       "      <td>GRB</td>\n",
       "      <td>0.7729</td>\n",
       "      <td>0.763278</td>\n",
       "      <td>0.750010</td>\n",
       "      <td>0.702634</td>\n",
       "    </tr>\n",
       "    <tr>\n",
       "      <th>11</th>\n",
       "      <td>PAG</td>\n",
       "      <td>0.7676</td>\n",
       "      <td>0.758046</td>\n",
       "      <td>0.744778</td>\n",
       "      <td>0.758815</td>\n",
       "    </tr>\n",
       "    <tr>\n",
       "      <th>12</th>\n",
       "      <td>DT</td>\n",
       "      <td>0.7282</td>\n",
       "      <td>0.718632</td>\n",
       "      <td>0.705364</td>\n",
       "      <td>0.717990</td>\n",
       "    </tr>\n",
       "    <tr>\n",
       "      <th>13</th>\n",
       "      <td>KNN</td>\n",
       "      <td>0.5597</td>\n",
       "      <td>0.550163</td>\n",
       "      <td>0.536895</td>\n",
       "      <td>0.459458</td>\n",
       "    </tr>\n",
       "  </tbody>\n",
       "</table>\n",
       "</div>"
      ],
      "text/plain": [
       "          Name  Test Accuracy  Precision    Recall  F1 Score\n",
       "0           LR         0.8430   0.833386  0.820118  0.820506\n",
       "1      SVC-rbf         0.8423   0.832688  0.819420  0.838238\n",
       "2          SGD         0.8398   0.830247  0.816979  0.842486\n",
       "3   SVC-linear         0.8360   0.826410  0.813142  0.840626\n",
       "4          BAG         0.8328   0.823271  0.810003  0.807292\n",
       "5           RF         0.8322   0.822573  0.809305  0.818401\n",
       "6          EXT         0.8196   0.810017  0.796748  0.814083\n",
       "7          MNB         0.8182   0.808621  0.795353  0.789665\n",
       "8          XGB         0.8102   0.800599  0.787331  0.797966\n",
       "9          ADB         0.7927   0.783159  0.769891  0.787474\n",
       "10         GRB         0.7729   0.763278  0.750010  0.702634\n",
       "11         PAG         0.7676   0.758046  0.744778  0.758815\n",
       "12          DT         0.7282   0.718632  0.705364  0.717990\n",
       "13         KNN         0.5597   0.550163  0.536895  0.459458"
      ]
     },
     "execution_count": 33,
     "metadata": {},
     "output_type": "execute_result"
    }
   ],
   "source": [
    "from sklearn.metrics import *\n",
    "MLA = {\n",
    "    'MNB' : TFIDF_NB_pipeline,\n",
    "    'SGD' : TFIDF_SGD_pipeline,\n",
    "    'LR' : TFIDF_LR_pipeline,\n",
    "    'RF' : TFIDF_RF_pipeline,\n",
    "    'XGB' : TFIDF_XGB_pipeline,\n",
    "    'SVC-linear' : TFIDF_SVC_linear_pipeline,\n",
    "    'DT' : TFIDF_DT_pipeline,\n",
    "    'KNN' : TFIDF_NearestNeighbors_pipeline,\n",
    "    'SVC-rbf' : TFIDF_svc_rbf_pipeline,\n",
    "    'PAG' : TFIDF_PassiveAggressive_pipeline,\n",
    "    'ADB' : TFIDF_ada_pipeline,\n",
    "    'BAG' : TFIDF_Bagging_pipeline,\n",
    "    'GRB' : TFIDF_GB_pipeline,\n",
    "    'EXT' : TFIDF_EXT_pipeline  \n",
    "}\n",
    "\n",
    "columns = []\n",
    "compare = pd.DataFrame(columns = columns)\n",
    "fpr = {}\n",
    "tpr = {}\n",
    "thresh ={}\n",
    "n_class = 3\n",
    "\n",
    "\n",
    "row_index = 0\n",
    "for name,alg in MLA.items():\n",
    "    MLA_name = name\n",
    "    predicted = alg.predict(X_test)\n",
    "    micro_averaged_recall = recall_score(y_test, predicted, average = 'micro')\n",
    "    macro_averaged_f1 = f1_score(y_test, predicted, average = 'macro')\n",
    "    compare.loc[row_index,'Name'] = MLA_name\n",
    "    compare.loc[row_index, 'Test Accuracy'] = round(alg.score(X_test, y_test), 4)\n",
    "    compare.loc[row_index, 'Precision'] = precision_score(y_test, predicted, average = 'micro')\n",
    "    compare.loc[row_index, 'Recall'] = micro_averaged_recall\n",
    "    compare.loc[row_index, 'F1 Score'] = macro_averaged_f1\n",
    "    row_index+=1\n",
    "compare.sort_values(by = ['Test Accuracy'], ascending = False, inplace = True)    \n",
    "compare"
   ]
  },
  {
   "cell_type": "code",
   "execution_count": 35,
   "metadata": {},
   "outputs": [],
   "source": [
    "compare.to_csv(PATH+\"Bangla/BD_EMOTIONS_results.csv\", index = False)"
   ]
  },
  {
   "cell_type": "code",
   "execution_count": 40,
   "metadata": {},
   "outputs": [],
   "source": [
    "compare = compare.head(5)"
   ]
  },
  {
   "cell_type": "markdown",
   "metadata": {},
   "source": [
    "### Performance Comparison of Every Model"
   ]
  },
  {
   "cell_type": "code",
   "execution_count": 49,
   "metadata": {},
   "outputs": [],
   "source": [
    "#plot performance comaparison \n",
    "def compare_plots(y_value,score):\n",
    "  plt.subplots(figsize=(15,8))\n",
    "  # color_palette(\"vlag\", as_cmap=True)\n",
    "  sn.barplot(x=\"Name\", y=y_value,palette='bright',data=compare,edgecolor=sn.color_palette('dark',7))\n",
    "  \n",
    "  plt.tick_params(axis='x',rotation=90,labelsize=22)\n",
    "  plt.tick_params(axis='y',rotation=0,labelsize=18)\n",
    "  plt.title('Comparing performance with '+y_value+'.' + '(TF-IDF)', fontsize=20)\n",
    "  plt.ylabel(score +' Score', fontsize=22)\n",
    "  plt.xlabel('Machine Learning Algorithms', fontsize=16)\n",
    "  plt.show()\n",
    "  return plt\n"
   ]
  },
  {
   "cell_type": "code",
   "execution_count": 50,
   "metadata": {},
   "outputs": [
    {
     "data": {
      "image/png": "[encoded data removed]",
      "text/plain": [
       "<Figure size 1080x576 with 1 Axes>"
      ]
     },
     "metadata": {
      "needs_background": "light"
     },
     "output_type": "display_data"
    }
   ],
   "source": [
    "# Performance conparion with respect to Accuracy\n",
    "compare_plots('Test Accuracy', 'Accuracy');"
   ]
  },
  {
   "cell_type": "code",
   "execution_count": 51,
   "metadata": {},
   "outputs": [
    {
     "data": {
      "image/png": "[encoded data removed]",
      "text/plain": [
       "<Figure size 1080x576 with 1 Axes>"
      ]
     },
     "metadata": {
      "needs_background": "light"
     },
     "output_type": "display_data"
    }
   ],
   "source": [
    "# Performance conparion with respect to F1 score\n",
    "compare_plots('Precision', 'Precision');"
   ]
  },
  {
   "cell_type": "code",
   "execution_count": 52,
   "metadata": {},
   "outputs": [
    {
     "data": {
      "image/png": "[encoded data removed]",
      "text/plain": [
       "<Figure size 1080x576 with 1 Axes>"
      ]
     },
     "metadata": {
      "needs_background": "light"
     },
     "output_type": "display_data"
    }
   ],
   "source": [
    "# Performance conparion with respect to F1 score\n",
    "compare_plots('Recall', 'Recall');"
   ]
  },
  {
   "cell_type": "code",
   "execution_count": 53,
   "metadata": {},
   "outputs": [
    {
     "data": {
      "image/png": "[encoded data removed]",
      "text/plain": [
       "<Figure size 1080x576 with 1 Axes>"
      ]
     },
     "metadata": {
      "needs_background": "light"
     },
     "output_type": "display_data"
    }
   ],
   "source": [
    "# Performance conparion with respect to F1 score\n",
    "compare_plots('F1 Score', 'F1 Score');"
   ]
  },
  {
   "cell_type": "markdown",
   "metadata": {},
   "source": [
    "## Model Validation \n",
    "\n",
    "### Confusion Matrix"
   ]
  },
  {
   "cell_type": "code",
   "execution_count": 54,
   "metadata": {},
   "outputs": [],
   "source": [
    "def conf_matrix(pred,classfier):\n",
    "  predictions = pred\n",
    "  y_pred = np.array(predictions)\n",
    "  cm = confusion_matrix(y_test, y_pred) \n",
    "\n",
    "  cm_df = pd.DataFrame(cm,\n",
    "                       index = ['happy', 'sad', 'anger', 'disgust', 'surprise', 'fear', 'none'], \n",
    "                       columns = ['happy', 'sad', 'anger', 'disgust', 'surprise', 'fear', 'none'])\n",
    "  plt.figure(figsize=(8,10))\n",
    "  sn.heatmap(cm_df, annot=True,cmap=\"BuPu\", fmt='g')\n",
    "  plt.title('\\n'+classfier+' Accuracy: {0:.2f}'.format(accuracy_score(y_test, y_pred)*100))\n",
    "  plt.ylabel('True label',weight = 'bold',fontsize=10)\n",
    "  plt.xlabel('Predicted label', weight = 'bold',fontsize=10)\n",
    "  plt.tick_params(rotation=0,axis='y', labelsize=14)\n",
    "  plt.tick_params(rotation=0,axis='x', labelsize=14)\n",
    "  plt.xticks(rotation = 0)\n",
    "  plt.yticks(rotation = 90)\n",
    "\n",
    "\n",
    "  plt.show()\n",
    "  plt.close()"
   ]
  },
  {
   "cell_type": "code",
   "execution_count": 6,
   "metadata": {},
   "outputs": [
    {
     "data": {
      "image/png": "[encoded data removed]",
      "text/plain": [
       "<Figure size 576x576 with 2 Axes>"
      ]
     },
     "metadata": {},
     "output_type": "display_data"
    }
   ],
   "source": [
    "conf_matrix(TFIDF_LR_pipeline_prediction, 'LR Model')"
   ]
  },
  {
   "cell_type": "code",
   "execution_count": 14,
   "metadata": {},
   "outputs": [
    {
     "name": "stdout",
     "output_type": "stream",
     "text": [
      "Text: অনেক অনেক অভিনন্দন ও শুভকামনা জানাচ্ছি কলেজ কর্তৃপক্ষ, শিক্ষকবৃন্দ এবং শিক্ষার্থীদের।\n",
      "Class: happy, Accuracy: 0.588958231999934\n",
      "Class: sad, Accuracy: 0.14338325304357125\n",
      "Class: anger, Accuracy: 0.08223370762807873\n",
      "Class: disgust, Accuracy: 0.07502825234412437\n",
      "Class: fear, Accuracy: 0.053321688942229065\n",
      "Class: surprise, Accuracy: 0.050835094795969246\n",
      "Class: none, Accuracy: 0.006239771246093219\n",
      "\n"
     ]
    },
    {
     "data": {
      "image/png": "[encoded data removed]",
      "text/plain": [
       "<Figure size 720x432 with 1 Axes>"
      ]
     },
     "metadata": {},
     "output_type": "display_data"
    }
   ],
   "source": [
    "import numpy as np\n",
    "import seaborn as sns\n",
    "import matplotlib.pyplot as plt\n",
    "\n",
    "from sklearn.linear_model import LogisticRegression\n",
    "TFIDF_LR_pipeline = Pipeline([\n",
    "\n",
    "                ('tfidf', TfidfVectorizer(tokenizer=lambda x: x.split(),lowercase=False,max_features=5000,min_df=4,ngram_range=(1,2))),\n",
    "                ('clf', OneVsRestClassifier(LogisticRegression(multi_class='ovr',solver='liblinear',C=1,random_state=42,tol=0.0001,max_iter=300)))\n",
    "            ])\n",
    "\n",
    "TFIDF_LR_pipeline.fit(X_train, y_train)\n",
    "TFIDF_LR_pipeline_prediction = TFIDF_LR_pipeline.predict(X_test)\n",
    "\n",
    "test_texts = [\"অনেক অনেক অভিনন্দন ও শুভকামনা জানাচ্ছি কলেজ কর্তৃপক্ষ, শিক্ষকবৃন্দ এবং শিক্ষার্থীদের।\"]\n",
    "probabilities = TFIDF_LR_pipeline.predict_proba(test_texts)\n",
    "\n",
    "# Get the class labels from the pipeline\n",
    "class_labels= ['happy', 'sad', 'anger', 'disgust', 'surprise', 'fear', 'none']\n",
    "\n",
    "\n",
    "# Iterate over the test texts and print the accuracy of each class\n",
    "for i in range(len(test_texts)):\n",
    "    text = test_texts[i]\n",
    "    probabilities_for_text = probabilities[i]\n",
    "    sorted_probabilities = sorted(zip(class_labels, probabilities_for_text), key=lambda x: x[1], reverse=True)\n",
    "    \n",
    "    print(f\"Text: {text}\")\n",
    "    for class_label, probability in sorted_probabilities:\n",
    "        print(f\"Class: {class_label}, Accuracy: {probability}\")\n",
    "    print()\n",
    "\n",
    "# Sort the probabilities in descending order\n",
    "sorted_probabilities = sorted(zip(class_labels, probabilities[0]), key=lambda x: x[1], reverse=True)\n",
    "\n",
    "# Extract the class labels and probabilities from the sorted list\n",
    "class_labels = [item[0] for item in sorted_probabilities]\n",
    "accuracy = [item[1] for item in sorted_probabilities]\n",
    "\n",
    "# Set the style of the plot\n",
    "sns.set(style='whitegrid')\n",
    "\n",
    "# Create a bar plot\n",
    "plt.figure(figsize=(10, 6))\n",
    "ax = sns.barplot(x=class_labels, y=accuracy, palette='viridis')\n",
    "\n",
    "# Add labels and title\n",
    "plt.xlabel('Class', fontsize=12)\n",
    "plt.ylabel('Accuracy', fontsize=12)\n",
    "plt.title('Accuracy for Each Class', fontsize=14)\n",
    "\n",
    "# Customize tick labels and rotation\n",
    "ax.set_xticklabels(class_labels, rotation=45, ha='right')\n",
    "\n",
    "# Add value labels to the bars\n",
    "for i, v in enumerate(accuracy):\n",
    "    ax.text(i, v + 0.01, f'{v:.2f}', color='black', ha='center')\n",
    "\n",
    "# Show the plot\n",
    "plt.tight_layout()\n",
    "plt.show()\n"
   ]
  },
  {
   "cell_type": "code",
   "execution_count": 13,
   "metadata": {},
   "outputs": [
    {
     "name": "stdout",
     "output_type": "stream",
     "text": [
      "Text: সময় ফুরিয়ে গেলে সবাইকে চলে যেতে হবে, এটাই নিয়ম, ধ্রুব সত্য। কেউ মৃত্যুকে কোনো কিছুর বিনিময়ে আটকাতে পারবে না৷ মৃত্যু সবার নাগাল পাবেই।\n",
      "Class: sad, Accuracy: 0.30081435259604555\n",
      "Class: fear, Accuracy: 0.20396012590872767\n",
      "Class: happy, Accuracy: 0.19569114367389778\n",
      "Class: anger, Accuracy: 0.12725221459929123\n",
      "Class: surprise, Accuracy: 0.08995017253589545\n",
      "Class: disgust, Accuracy: 0.07476884923485397\n",
      "Class: none, Accuracy: 0.0075631414512883285\n",
      "\n"
     ]
    },
    {
     "data": {
      "image/png": "[encoded data removed]",
      "text/plain": [
       "<Figure size 720x432 with 1 Axes>"
      ]
     },
     "metadata": {},
     "output_type": "display_data"
    }
   ],
   "source": [
    "import numpy as np\n",
    "import seaborn as sns\n",
    "import matplotlib.pyplot as plt\n",
    "\n",
    "from sklearn.linear_model import LogisticRegression\n",
    "TFIDF_LR_pipeline = Pipeline([\n",
    "\n",
    "                ('tfidf', TfidfVectorizer(tokenizer=lambda x: x.split(),lowercase=False,max_features=5000,min_df=4,ngram_range=(1,2))),\n",
    "                ('clf', OneVsRestClassifier(LogisticRegression(multi_class='ovr',solver='liblinear',C=1,random_state=42,tol=0.0001,max_iter=300)))\n",
    "            ])\n",
    "\n",
    "TFIDF_LR_pipeline.fit(X_train, y_train)\n",
    "TFIDF_LR_pipeline_prediction = TFIDF_LR_pipeline.predict(X_test)\n",
    "\n",
    "test_texts = [\"সময় ফুরিয়ে গেলে সবাইকে চলে যেতে হবে, এটাই নিয়ম, ধ্রুব সত্য। কেউ মৃত্যুকে কোনো কিছুর বিনিময়ে আটকাতে পারবে না৷ মৃত্যু সবার নাগাল পাবেই।\"]\n",
    "probabilities = TFIDF_LR_pipeline.predict_proba(test_texts)\n",
    "\n",
    "# Get the class labels from the pipeline\n",
    "class_labels= ['happy', 'sad', 'anger', 'disgust', 'surprise', 'fear', 'none']\n",
    "\n",
    "\n",
    "# Iterate over the test texts and print the accuracy of each class\n",
    "for i in range(len(test_texts)):\n",
    "    text = test_texts[i]\n",
    "    probabilities_for_text = probabilities[i]\n",
    "    sorted_probabilities = sorted(zip(class_labels, probabilities_for_text), key=lambda x: x[1], reverse=True)\n",
    "    \n",
    "    print(f\"Text: {text}\")\n",
    "    for class_label, probability in sorted_probabilities:\n",
    "        print(f\"Class: {class_label}, Accuracy: {probability}\")\n",
    "    print()\n",
    "\n",
    "# Sort the probabilities in descending order\n",
    "sorted_probabilities = sorted(zip(class_labels, probabilities[0]), key=lambda x: x[1], reverse=True)\n",
    "\n",
    "# Extract the class labels and probabilities from the sorted list\n",
    "class_labels = [item[0] for item in sorted_probabilities]\n",
    "accuracy = [item[1] for item in sorted_probabilities]\n",
    "\n",
    "# Set the style of the plot\n",
    "sns.set(style='whitegrid')\n",
    "\n",
    "# Create a bar plot\n",
    "plt.figure(figsize=(10, 6))\n",
    "ax = sns.barplot(x=class_labels, y=accuracy, palette='viridis')\n",
    "\n",
    "# Add labels and title\n",
    "plt.xlabel('Class', fontsize=12)\n",
    "plt.ylabel('Accuracy', fontsize=12)\n",
    "plt.title('Accuracy for Each Class', fontsize=14)\n",
    "\n",
    "# Customize tick labels and rotation\n",
    "ax.set_xticklabels(class_labels, rotation=45, ha='right')\n",
    "\n",
    "# Add value labels to the bars\n",
    "for i, v in enumerate(accuracy):\n",
    "    ax.text(i, v + 0.01, f'{v:.2f}', color='black', ha='center')\n",
    "\n",
    "# Show the plot\n",
    "plt.tight_layout()\n",
    "plt.show()\n"
   ]
  }
 ],
 "metadata": {
  "colab": {
   "collapsed_sections": [],
   "name": " BanglaFoodReview.ipynb",
   "provenance": [
    {
     "file_id": "14lBrVA9HUA-Qi-YtepK6y5QW53_1cPFH",
     "timestamp": 1647866433754
    }
   ]
  },
  "kernelspec": {
   "display_name": "Python 3 (ipykernel)",
   "language": "python",
   "name": "python3"
  },
  "language_info": {
   "codemirror_mode": {
    "name": "ipython",
    "version": 3
   },
   "file_extension": ".py",
   "mimetype": "text/x-python",
   "name": "python",
   "nbconvert_exporter": "python",
   "pygments_lexer": "ipython3",
   "version": "3.7.11"
  }
 },
 "nbformat": 4,
 "nbformat_minor": 1
}
