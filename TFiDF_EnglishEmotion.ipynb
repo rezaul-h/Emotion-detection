{
 "cells": [
  {
   "cell_type": "code",
   "execution_count": 11,
   "metadata": {
    "executionInfo": {
     "elapsed": 69,
     "status": "ok",
     "timestamp": 1647949033513,
     "user": {
      "displayName": "Mahedi Hassan Ratul",
      "photoUrl": "https://lh3.googleusercontent.com/a-/AOh14GgSHaL-yqr53Txfy2EGVnF4_8rC4vvHOL8ZVpNbuw=s64",
      "userId": "16365986714512941363"
     },
     "user_tz": -360
    },
    "id": "sA07IuUQSFBU"
   },
   "outputs": [],
   "source": [
    "import pandas as pd \n",
    "import numpy as np\n",
    "import matplotlib.pyplot as plt\n",
    "import seaborn as sn\n",
    "import re\n",
    "import string\n",
    "from sklearn.model_selection import train_test_split\n",
    "from sklearn.multiclass import OneVsRestClassifier\n",
    "import seaborn as sn\n",
    "\n",
    "import warnings\n",
    "warnings.filterwarnings(\"ignore\")"
   ]
  },
  {
   "cell_type": "code",
   "execution_count": 12,
   "metadata": {
    "executionInfo": {
     "elapsed": 72,
     "status": "ok",
     "timestamp": 1647949033517,
     "user": {
      "displayName": "Mahedi Hassan Ratul",
      "photoUrl": "https://lh3.googleusercontent.com/a-/AOh14GgSHaL-yqr53Txfy2EGVnF4_8rC4vvHOL8ZVpNbuw=s64",
      "userId": "16365986714512941363"
     },
     "user_tz": -360
    },
    "id": "Lqg64nolUZKP"
   },
   "outputs": [],
   "source": [
    "PATH = \"F:\\\\Ml files\\\\Emotion detection\\\\Data\\\\\""
   ]
  },
  {
   "cell_type": "code",
   "execution_count": 13,
   "metadata": {},
   "outputs": [
    {
     "data": {
      "text/html": [
       "<div>\n",
       "<style scoped>\n",
       "    .dataframe tbody tr th:only-of-type {\n",
       "        vertical-align: middle;\n",
       "    }\n",
       "\n",
       "    .dataframe tbody tr th {\n",
       "        vertical-align: top;\n",
       "    }\n",
       "\n",
       "    .dataframe thead th {\n",
       "        text-align: right;\n",
       "    }\n",
       "</style>\n",
       "<table border=\"1\" class=\"dataframe\">\n",
       "  <thead>\n",
       "    <tr style=\"text-align: right;\">\n",
       "      <th></th>\n",
       "      <th>sentiment</th>\n",
       "      <th>content</th>\n",
       "      <th>cleaned_text</th>\n",
       "    </tr>\n",
       "  </thead>\n",
       "  <tbody>\n",
       "    <tr>\n",
       "      <th>0</th>\n",
       "      <td>anger</td>\n",
       "      <td>At the point today where if someone says somet...</td>\n",
       "      <td>point today someone say something remotely kin...</td>\n",
       "    </tr>\n",
       "    <tr>\n",
       "      <th>1</th>\n",
       "      <td>anger</td>\n",
       "      <td>@CorningFootball  IT'S GAME DAY!!!!      T MIN...</td>\n",
       "      <td>game day minus relentless</td>\n",
       "    </tr>\n",
       "    <tr>\n",
       "      <th>2</th>\n",
       "      <td>anger</td>\n",
       "      <td>This game has pissed me off more than any othe...</td>\n",
       "      <td>game piss game year blood boiling time turn st...</td>\n",
       "    </tr>\n",
       "    <tr>\n",
       "      <th>3</th>\n",
       "      <td>anger</td>\n",
       "      <td>@spamvicious I've just found out it's Candice ...</td>\n",
       "      <td>find candice candace pout like</td>\n",
       "    </tr>\n",
       "    <tr>\n",
       "      <th>4</th>\n",
       "      <td>anger</td>\n",
       "      <td>@moocowward @mrsajhargreaves @Melly77 @GaryBar...</td>\n",
       "      <td>cannot come muma th k tweet soreloser</td>\n",
       "    </tr>\n",
       "  </tbody>\n",
       "</table>\n",
       "</div>"
      ],
      "text/plain": [
       "  sentiment                                            content  \\\n",
       "0     anger  At the point today where if someone says somet...   \n",
       "1     anger  @CorningFootball  IT'S GAME DAY!!!!      T MIN...   \n",
       "2     anger  This game has pissed me off more than any othe...   \n",
       "3     anger  @spamvicious I've just found out it's Candice ...   \n",
       "4     anger  @moocowward @mrsajhargreaves @Melly77 @GaryBar...   \n",
       "\n",
       "                                        cleaned_text  \n",
       "0  point today someone say something remotely kin...  \n",
       "1                          game day minus relentless  \n",
       "2  game piss game year blood boiling time turn st...  \n",
       "3                     find candice candace pout like  \n",
       "4              cannot come muma th k tweet soreloser  "
      ]
     },
     "execution_count": 13,
     "metadata": {},
     "output_type": "execute_result"
    }
   ],
   "source": [
    "data = pd.read_csv(PATH+\"English/ISEAR/Cleaned_ENG_EMOTIONS.csv\")\n",
    "data.head()"
   ]
  },
  {
   "cell_type": "code",
   "execution_count": 14,
   "metadata": {
    "colab": {
     "base_uri": "https://localhost:8080/",
     "height": 468
    },
    "executionInfo": {
     "elapsed": 69,
     "status": "ok",
     "timestamp": 1647949033521,
     "user": {
      "displayName": "Mahedi Hassan Ratul",
      "photoUrl": "https://lh3.googleusercontent.com/a-/AOh14GgSHaL-yqr53Txfy2EGVnF4_8rC4vvHOL8ZVpNbuw=s64",
      "userId": "16365986714512941363"
     },
     "user_tz": -360
    },
    "id": "rHrCbF0UEJhT",
    "outputId": "27c0238d-308c-42c2-8452-b26fc966147e"
   },
   "outputs": [
    {
     "data": {
      "text/html": [
       "<div>\n",
       "<style scoped>\n",
       "    .dataframe tbody tr th:only-of-type {\n",
       "        vertical-align: middle;\n",
       "    }\n",
       "\n",
       "    .dataframe tbody tr th {\n",
       "        vertical-align: top;\n",
       "    }\n",
       "\n",
       "    .dataframe thead th {\n",
       "        text-align: right;\n",
       "    }\n",
       "</style>\n",
       "<table border=\"1\" class=\"dataframe\">\n",
       "  <thead>\n",
       "    <tr style=\"text-align: right;\">\n",
       "      <th></th>\n",
       "      <th>sentiment</th>\n",
       "      <th>content</th>\n",
       "      <th>cleaned_text</th>\n",
       "    </tr>\n",
       "  </thead>\n",
       "  <tbody>\n",
       "    <tr>\n",
       "      <th>0</th>\n",
       "      <td>anger</td>\n",
       "      <td>At the point today where if someone says somet...</td>\n",
       "      <td>point today someone say something remotely kin...</td>\n",
       "    </tr>\n",
       "    <tr>\n",
       "      <th>1</th>\n",
       "      <td>anger</td>\n",
       "      <td>@CorningFootball  IT'S GAME DAY!!!!      T MIN...</td>\n",
       "      <td>game day minus relentless</td>\n",
       "    </tr>\n",
       "    <tr>\n",
       "      <th>2</th>\n",
       "      <td>anger</td>\n",
       "      <td>This game has pissed me off more than any othe...</td>\n",
       "      <td>game piss game year blood boiling time turn st...</td>\n",
       "    </tr>\n",
       "    <tr>\n",
       "      <th>3</th>\n",
       "      <td>anger</td>\n",
       "      <td>@spamvicious I've just found out it's Candice ...</td>\n",
       "      <td>find candice candace pout like</td>\n",
       "    </tr>\n",
       "    <tr>\n",
       "      <th>4</th>\n",
       "      <td>anger</td>\n",
       "      <td>@moocowward @mrsajhargreaves @Melly77 @GaryBar...</td>\n",
       "      <td>cannot come muma th k tweet soreloser</td>\n",
       "    </tr>\n",
       "    <tr>\n",
       "      <th>...</th>\n",
       "      <td>...</td>\n",
       "      <td>...</td>\n",
       "      <td>...</td>\n",
       "    </tr>\n",
       "    <tr>\n",
       "      <th>7097</th>\n",
       "      <td>sadness</td>\n",
       "      <td>@VivienLloyd Thank you so much! Just home - st...</td>\n",
       "      <td>thank much home stun happy think sunk yet wow</td>\n",
       "    </tr>\n",
       "    <tr>\n",
       "      <th>7098</th>\n",
       "      <td>sadness</td>\n",
       "      <td>Just put the winter duvet on ☃️❄️🌬☔️</td>\n",
       "      <td>put winter duvet</td>\n",
       "    </tr>\n",
       "    <tr>\n",
       "      <th>7099</th>\n",
       "      <td>sadness</td>\n",
       "      <td>@SilkInSide @TommyJoeRatliff that's so pretty!...</td>\n",
       "      <td>pretty love sky background purple highlight du...</td>\n",
       "    </tr>\n",
       "    <tr>\n",
       "      <th>7100</th>\n",
       "      <td>sadness</td>\n",
       "      <td>@BluesfestByron second artist announcement loo...</td>\n",
       "      <td>second artist announcement look good bluesfest...</td>\n",
       "    </tr>\n",
       "    <tr>\n",
       "      <th>7101</th>\n",
       "      <td>sadness</td>\n",
       "      <td>I can literally eat creamy pesto pasta topped ...</td>\n",
       "      <td>literally eat creamy pesto pasta top grilled c...</td>\n",
       "    </tr>\n",
       "  </tbody>\n",
       "</table>\n",
       "<p>7102 rows × 3 columns</p>\n",
       "</div>"
      ],
      "text/plain": [
       "     sentiment                                            content  \\\n",
       "0        anger  At the point today where if someone says somet...   \n",
       "1        anger  @CorningFootball  IT'S GAME DAY!!!!      T MIN...   \n",
       "2        anger  This game has pissed me off more than any othe...   \n",
       "3        anger  @spamvicious I've just found out it's Candice ...   \n",
       "4        anger  @moocowward @mrsajhargreaves @Melly77 @GaryBar...   \n",
       "...        ...                                                ...   \n",
       "7097   sadness  @VivienLloyd Thank you so much! Just home - st...   \n",
       "7098   sadness              Just put the winter duvet on ☃️❄️🌬☔️    \n",
       "7099   sadness  @SilkInSide @TommyJoeRatliff that's so pretty!...   \n",
       "7100   sadness  @BluesfestByron second artist announcement loo...   \n",
       "7101   sadness  I can literally eat creamy pesto pasta topped ...   \n",
       "\n",
       "                                           cleaned_text  \n",
       "0     point today someone say something remotely kin...  \n",
       "1                             game day minus relentless  \n",
       "2     game piss game year blood boiling time turn st...  \n",
       "3                        find candice candace pout like  \n",
       "4                 cannot come muma th k tweet soreloser  \n",
       "...                                                 ...  \n",
       "7097      thank much home stun happy think sunk yet wow  \n",
       "7098                                   put winter duvet  \n",
       "7099  pretty love sky background purple highlight du...  \n",
       "7100  second artist announcement look good bluesfest...  \n",
       "7101  literally eat creamy pesto pasta top grilled c...  \n",
       "\n",
       "[7102 rows x 3 columns]"
      ]
     },
     "execution_count": 14,
     "metadata": {},
     "output_type": "execute_result"
    }
   ],
   "source": [
    "data.fillna(0)"
   ]
  },
  {
   "cell_type": "code",
   "execution_count": 15,
   "metadata": {},
   "outputs": [
    {
     "data": {
      "text/plain": [
       "fear       2252\n",
       "anger      1701\n",
       "joy        1616\n",
       "sadness    1533\n",
       "Name: sentiment, dtype: int64"
      ]
     },
     "execution_count": 15,
     "metadata": {},
     "output_type": "execute_result"
    }
   ],
   "source": [
    "data.sentiment.value_counts()"
   ]
  },
  {
   "cell_type": "code",
   "execution_count": 17,
   "metadata": {},
   "outputs": [],
   "source": [
    "data['sentiment'] = data['sentiment'].replace(['fear','anger','joy','sadness'], [1,2,3,4])"
   ]
  },
  {
   "cell_type": "code",
   "execution_count": 18,
   "metadata": {
    "colab": {
     "base_uri": "https://localhost:8080/"
    },
    "executionInfo": {
     "elapsed": 68,
     "status": "ok",
     "timestamp": 1647949033523,
     "user": {
      "displayName": "Mahedi Hassan Ratul",
      "photoUrl": "https://lh3.googleusercontent.com/a-/AOh14GgSHaL-yqr53Txfy2EGVnF4_8rC4vvHOL8ZVpNbuw=s64",
      "userId": "16365986714512941363"
     },
     "user_tz": -360
    },
    "id": "t112ZwVOE7Qb",
    "outputId": "3b16dc35-de3a-4e4b-d092-248612c63792"
   },
   "outputs": [
    {
     "data": {
      "text/plain": [
       "1    2252\n",
       "2    1701\n",
       "3    1616\n",
       "4    1533\n",
       "Name: sentiment, dtype: int64"
      ]
     },
     "execution_count": 18,
     "metadata": {},
     "output_type": "execute_result"
    }
   ],
   "source": [
    "data.sentiment.value_counts()"
   ]
  },
  {
   "cell_type": "code",
   "execution_count": 21,
   "metadata": {
    "colab": {
     "base_uri": "https://localhost:8080/"
    },
    "executionInfo": {
     "elapsed": 59,
     "status": "ok",
     "timestamp": 1647949033525,
     "user": {
      "displayName": "Mahedi Hassan Ratul",
      "photoUrl": "https://lh3.googleusercontent.com/a-/AOh14GgSHaL-yqr53Txfy2EGVnF4_8rC4vvHOL8ZVpNbuw=s64",
      "userId": "16365986714512941363"
     },
     "user_tz": -360
    },
    "id": "qKHIOEEoH__L",
    "outputId": "3b088184-a4d6-4072-8378-b2c6d076aa4b"
   },
   "outputs": [],
   "source": [
    "data['cleaned_text'] = data['cleaned_text'].str.replace(r'\\s+', ' ')"
   ]
  },
  {
   "cell_type": "code",
   "execution_count": 22,
   "metadata": {
    "colab": {
     "base_uri": "https://localhost:8080/",
     "height": 35
    },
    "executionInfo": {
     "elapsed": 54,
     "status": "ok",
     "timestamp": 1647949033526,
     "user": {
      "displayName": "Mahedi Hassan Ratul",
      "photoUrl": "https://lh3.googleusercontent.com/a-/AOh14GgSHaL-yqr53Txfy2EGVnF4_8rC4vvHOL8ZVpNbuw=s64",
      "userId": "16365986714512941363"
     },
     "user_tz": -360
    },
    "id": "mW8G1GYtJRWI",
    "outputId": "1f7cf329-45b0-42de-b7c0-0f70d4189de3"
   },
   "outputs": [
    {
     "data": {
      "text/plain": [
       "'game piss game year blood boiling time turn stlcards'"
      ]
     },
     "execution_count": 22,
     "metadata": {},
     "output_type": "execute_result"
    }
   ],
   "source": [
    "data.cleaned_text[2]"
   ]
  },
  {
   "cell_type": "markdown",
   "metadata": {},
   "source": [
    "## Data Split \n",
    "\n",
    "## (Training : 80% and Testing 20% )"
   ]
  },
  {
   "cell_type": "code",
   "execution_count": 23,
   "metadata": {},
   "outputs": [
    {
     "name": "stdout",
     "output_type": "stream",
     "text": [
      "(5681,)\n",
      "(1421,)\n",
      "(5681,)\n",
      "(1421,)\n"
     ]
    }
   ],
   "source": [
    "data.cleaned_text =  data.cleaned_text.apply(str)\n",
    "X = data['cleaned_text']\n",
    "Y = data['sentiment']\n",
    "X_train, X_test, y_train, y_test = train_test_split(X, Y, test_size=0.2, random_state = 42)\n",
    "\n",
    "#checking...\n",
    "print(X_train.shape)\n",
    "print(X_test.shape)\n",
    "print(y_train.shape)\n",
    "print(y_test.shape)\n"
   ]
  },
  {
   "cell_type": "code",
   "execution_count": 24,
   "metadata": {
    "executionInfo": {
     "elapsed": 48,
     "status": "ok",
     "timestamp": 1647949033530,
     "user": {
      "displayName": "Mahedi Hassan Ratul",
      "photoUrl": "https://lh3.googleusercontent.com/a-/AOh14GgSHaL-yqr53Txfy2EGVnF4_8rC4vvHOL8ZVpNbuw=s64",
      "userId": "16365986714512941363"
     },
     "user_tz": -360
    },
    "id": "nUlRlcjEPub6"
   },
   "outputs": [],
   "source": [
    "X_train = X_train.replace((np.inf, -np.inf, np.nan), 0).reset_index(drop=True)\n",
    "X_test = X_test.replace((np.inf, -np.inf, np.nan), 0).reset_index(drop=True)\n",
    "y_train = y_train.replace((np.inf, -np.inf, np.nan), 0).reset_index(drop=True)\n",
    "y_test = y_test.replace((np.inf, -np.inf, np.nan), 0).reset_index(drop=True)\n"
   ]
  },
  {
   "cell_type": "code",
   "execution_count": 25,
   "metadata": {
    "executionInfo": {
     "elapsed": 48,
     "status": "ok",
     "timestamp": 1647949033531,
     "user": {
      "displayName": "Mahedi Hassan Ratul",
      "photoUrl": "https://lh3.googleusercontent.com/a-/AOh14GgSHaL-yqr53Txfy2EGVnF4_8rC4vvHOL8ZVpNbuw=s64",
      "userId": "16365986714512941363"
     },
     "user_tz": -360
    },
    "id": "jrx2seOvM0U5"
   },
   "outputs": [],
   "source": [
    "from sklearn.pipeline import Pipeline\n",
    "from sklearn.feature_extraction.text import TfidfVectorizer\n",
    "from sklearn.metrics import accuracy_score\n"
   ]
  },
  {
   "cell_type": "markdown",
   "metadata": {},
   "source": [
    "## Model Development \n",
    "\n",
    "### Pipeline creation using TFIDF, One VS rest classifier and several ML models"
   ]
  },
  {
   "cell_type": "markdown",
   "metadata": {},
   "source": [
    "### SGD Classifier"
   ]
  },
  {
   "cell_type": "code",
   "execution_count": 27,
   "metadata": {},
   "outputs": [
    {
     "name": "stdout",
     "output_type": "stream",
     "text": [
      "accuracy 0.8937368050668544\n"
     ]
    }
   ],
   "source": [
    "from sklearn.linear_model import SGDClassifier\n",
    "TFIDF_SGD_pipeline = Pipeline([\n",
    "                               \n",
    "                ('tfidf', TfidfVectorizer(tokenizer=lambda x: x.split(),lowercase=False,max_features=13000,min_df=1,ngram_range=(1,2))),\n",
    "                ('clf',OneVsRestClassifier(SGDClassifier(loss='hinge', penalty='l2', alpha=1e-4, random_state=42, max_iter=100, tol=None)))\n",
    "            ])\n",
    "\n",
    "TFIDF_SGD_pipeline.fit(X_train, y_train)\n",
    "TFIDF_SGD_pipeline_prediction = TFIDF_SGD_pipeline.predict(X_test)\n",
    "\n",
    "\n",
    "print('accuracy %s' % accuracy_score(TFIDF_SGD_pipeline_prediction, y_test))\n"
   ]
  },
  {
   "cell_type": "markdown",
   "metadata": {},
   "source": [
    "### Logistric Regeression"
   ]
  },
  {
   "cell_type": "code",
   "execution_count": 28,
   "metadata": {},
   "outputs": [
    {
     "name": "stdout",
     "output_type": "stream",
     "text": [
      "accuracy 0.8451794510907812\n"
     ]
    }
   ],
   "source": [
    "from sklearn.linear_model import LogisticRegression\n",
    "TFIDF_LR_pipeline = Pipeline([\n",
    "\n",
    "                ('tfidf', TfidfVectorizer(tokenizer=lambda x: x.split(),lowercase=False,max_features=5000,min_df=4,ngram_range=(1,2))),\n",
    "                ('clf', OneVsRestClassifier(LogisticRegression(multi_class='ovr',solver='liblinear',C=1,random_state=42,tol=0.0001,max_iter=300)))\n",
    "            ])\n",
    "\n",
    "TFIDF_LR_pipeline.fit(X_train, y_train)\n",
    "TFIDF_LR_pipeline_prediction = TFIDF_LR_pipeline.predict(X_test)\n",
    "\n",
    "\n",
    "print('accuracy %s' % accuracy_score(TFIDF_LR_pipeline_prediction, y_test))\n"
   ]
  },
  {
   "cell_type": "markdown",
   "metadata": {},
   "source": [
    "### Random Forest Classifier"
   ]
  },
  {
   "cell_type": "code",
   "execution_count": 29,
   "metadata": {},
   "outputs": [
    {
     "name": "stdout",
     "output_type": "stream",
     "text": [
      "accuracy 0.8719211822660099\n"
     ]
    }
   ],
   "source": [
    "from sklearn.ensemble import RandomForestClassifier\n",
    "TFIDF_RF_pipeline = Pipeline([\n",
    "                ('tfidf', TfidfVectorizer(tokenizer=lambda x: x.split(),lowercase=False,max_features=11000,min_df=1,ngram_range=(1,2))),\n",
    "                ('clf', OneVsRestClassifier(RandomForestClassifier(n_estimators=500,criterion ='entropy')))\n",
    "            ])\n",
    "\n",
    "\n",
    "TFIDF_RF_pipeline.fit(X_train, y_train)\n",
    "TFIDF_RF_pipeline_prediction = TFIDF_RF_pipeline.predict(X_test)\n",
    "\n",
    "print('accuracy %s' % accuracy_score(TFIDF_RF_pipeline_prediction, y_test))\n"
   ]
  },
  {
   "cell_type": "markdown",
   "metadata": {},
   "source": [
    "### SVC (kernel = rbf) "
   ]
  },
  {
   "cell_type": "code",
   "execution_count": 32,
   "metadata": {},
   "outputs": [
    {
     "name": "stdout",
     "output_type": "stream",
     "text": [
      "accuracy 0.900070372976777\n"
     ]
    }
   ],
   "source": [
    "#RB SVM\n",
    "from sklearn.svm import SVC\n",
    "TFIDF_svc_rbf_pipeline = Pipeline([\n",
    "                               \n",
    "                ('tfidf', TfidfVectorizer(tokenizer=lambda x: x.split(),lowercase=False,max_features=9000,min_df=2,ngram_range=(1,2))),\n",
    "                ('clf', OneVsRestClassifier(SVC(random_state=42, kernel='rbf')))\n",
    "            ])\n",
    "\n",
    "\n",
    "TFIDF_svc_rbf_pipeline.fit(X_train, y_train)\n",
    "TFIDF_svc_rbf_pipeline_prediction = TFIDF_svc_rbf_pipeline.predict(X_test)\n",
    "\n",
    "print('accuracy %s' % accuracy_score(TFIDF_svc_rbf_pipeline_prediction, y_test))\n"
   ]
  },
  {
   "cell_type": "markdown",
   "metadata": {},
   "source": [
    "### Passive Aggressive Classifier"
   ]
  },
  {
   "cell_type": "code",
   "execution_count": 33,
   "metadata": {},
   "outputs": [
    {
     "name": "stdout",
     "output_type": "stream",
     "text": [
      "accuracy 0.8465869106263195\n"
     ]
    }
   ],
   "source": [
    "#RB PassiveAggressiveClassifier\n",
    "from sklearn.linear_model import PassiveAggressiveClassifier\n",
    "TFIDF_PassiveAggressive_pipeline = Pipeline([\n",
    "                               \n",
    "                ('tfidf', TfidfVectorizer(tokenizer=lambda x: x.split(),lowercase=False,max_features=9000,min_df=1,ngram_range=(1,2))),\n",
    "                ('clf', OneVsRestClassifier(PassiveAggressiveClassifier(random_state=42,max_iter=500,tol=None)))\n",
    "            ])\n",
    "\n",
    "\n",
    "TFIDF_PassiveAggressive_pipeline.fit(X_train, y_train)\n",
    "TFIDF_PassiveAggressive_pipeline_prediction = TFIDF_PassiveAggressive_pipeline.predict(X_test)\n",
    "\n",
    "print('accuracy %s' % accuracy_score(TFIDF_PassiveAggressive_pipeline_prediction, y_test))\n"
   ]
  },
  {
   "cell_type": "markdown",
   "metadata": {},
   "source": [
    "### Bagging Classifier"
   ]
  },
  {
   "cell_type": "code",
   "execution_count": 35,
   "metadata": {},
   "outputs": [
    {
     "name": "stdout",
     "output_type": "stream",
     "text": [
      "accuracy 0.8662913441238564\n"
     ]
    }
   ],
   "source": [
    "#BaggingClassifier\n",
    "from sklearn.ensemble import BaggingClassifier\n",
    "TFIDF_Bagging_pipeline = Pipeline([\n",
    "                               \n",
    "                ('tfidf', TfidfVectorizer(tokenizer=lambda x: x.split(),lowercase=False,max_features=8000,min_df=1,ngram_range=(1,2))),\n",
    "                ('clf', BaggingClassifier(base_estimator=SVC(),n_estimators=10, random_state=42))\n",
    "            ])\n",
    "\n",
    "\n",
    "TFIDF_Bagging_pipeline.fit(X_train, y_train)\n",
    "TFIDF_Bagging_pipeline_prediction = TFIDF_Bagging_pipeline.predict(X_test)\n",
    "\n",
    "print('accuracy %s' % accuracy_score(TFIDF_Bagging_pipeline_prediction, y_test))\n"
   ]
  },
  {
   "cell_type": "markdown",
   "metadata": {},
   "source": [
    "## Result Evaluation"
   ]
  },
  {
   "cell_type": "code",
   "execution_count": 36,
   "metadata": {},
   "outputs": [
    {
     "data": {
      "text/html": [
       "<div>\n",
       "<style scoped>\n",
       "    .dataframe tbody tr th:only-of-type {\n",
       "        vertical-align: middle;\n",
       "    }\n",
       "\n",
       "    .dataframe tbody tr th {\n",
       "        vertical-align: top;\n",
       "    }\n",
       "\n",
       "    .dataframe thead th {\n",
       "        text-align: right;\n",
       "    }\n",
       "</style>\n",
       "<table border=\"1\" class=\"dataframe\">\n",
       "  <thead>\n",
       "    <tr style=\"text-align: right;\">\n",
       "      <th></th>\n",
       "      <th>Name</th>\n",
       "      <th>Test Accuracy</th>\n",
       "      <th>Precision</th>\n",
       "      <th>Recall</th>\n",
       "      <th>F1 Score</th>\n",
       "    </tr>\n",
       "  </thead>\n",
       "  <tbody>\n",
       "    <tr>\n",
       "      <th>3</th>\n",
       "      <td>SVC-rbf</td>\n",
       "      <td>0.9001</td>\n",
       "      <td>0.900070</td>\n",
       "      <td>0.900070</td>\n",
       "      <td>0.897611</td>\n",
       "    </tr>\n",
       "    <tr>\n",
       "      <th>0</th>\n",
       "      <td>SGD</td>\n",
       "      <td>0.8937</td>\n",
       "      <td>0.893737</td>\n",
       "      <td>0.893737</td>\n",
       "      <td>0.891897</td>\n",
       "    </tr>\n",
       "    <tr>\n",
       "      <th>2</th>\n",
       "      <td>RF</td>\n",
       "      <td>0.8719</td>\n",
       "      <td>0.871921</td>\n",
       "      <td>0.871921</td>\n",
       "      <td>0.872220</td>\n",
       "    </tr>\n",
       "    <tr>\n",
       "      <th>5</th>\n",
       "      <td>BAG</td>\n",
       "      <td>0.8663</td>\n",
       "      <td>0.866291</td>\n",
       "      <td>0.866291</td>\n",
       "      <td>0.864612</td>\n",
       "    </tr>\n",
       "    <tr>\n",
       "      <th>4</th>\n",
       "      <td>PAG</td>\n",
       "      <td>0.8466</td>\n",
       "      <td>0.846587</td>\n",
       "      <td>0.846587</td>\n",
       "      <td>0.843617</td>\n",
       "    </tr>\n",
       "    <tr>\n",
       "      <th>1</th>\n",
       "      <td>LR</td>\n",
       "      <td>0.8452</td>\n",
       "      <td>0.845179</td>\n",
       "      <td>0.845179</td>\n",
       "      <td>0.844329</td>\n",
       "    </tr>\n",
       "  </tbody>\n",
       "</table>\n",
       "</div>"
      ],
      "text/plain": [
       "      Name  Test Accuracy  Precision    Recall  F1 Score\n",
       "3  SVC-rbf         0.9001   0.900070  0.900070  0.897611\n",
       "0      SGD         0.8937   0.893737  0.893737  0.891897\n",
       "2       RF         0.8719   0.871921  0.871921  0.872220\n",
       "5      BAG         0.8663   0.866291  0.866291  0.864612\n",
       "4      PAG         0.8466   0.846587  0.846587  0.843617\n",
       "1       LR         0.8452   0.845179  0.845179  0.844329"
      ]
     },
     "execution_count": 36,
     "metadata": {},
     "output_type": "execute_result"
    }
   ],
   "source": [
    "from sklearn.metrics import *\n",
    "MLA = {\n",
    "    'SGD' : TFIDF_SGD_pipeline,\n",
    "    'LR' : TFIDF_LR_pipeline,\n",
    "    'RF' : TFIDF_RF_pipeline,\n",
    "    'SVC-rbf' : TFIDF_svc_rbf_pipeline,\n",
    "    'PAG' : TFIDF_PassiveAggressive_pipeline,\n",
    "    'BAG' : TFIDF_Bagging_pipeline,\n",
    "}\n",
    "\n",
    "columns = []\n",
    "compare = pd.DataFrame(columns = columns)\n",
    "fpr = {}\n",
    "tpr = {}\n",
    "thresh ={}\n",
    "n_class = 3\n",
    "\n",
    "\n",
    "row_index = 0\n",
    "for name,alg in MLA.items():\n",
    "    MLA_name = name\n",
    "    predicted = alg.predict(X_test)\n",
    "    micro_averaged_recall = recall_score(y_test, predicted, average = 'micro')\n",
    "    macro_averaged_f1 = f1_score(y_test, predicted, average = 'macro')\n",
    "    compare.loc[row_index,'Name'] = MLA_name\n",
    "    compare.loc[row_index, 'Test Accuracy'] = round(alg.score(X_test, y_test), 4)\n",
    "    compare.loc[row_index, 'Precision'] = precision_score(y_test, predicted, average = 'micro')\n",
    "    compare.loc[row_index, 'Recall'] = micro_averaged_recall\n",
    "    compare.loc[row_index, 'F1 Score'] = macro_averaged_f1\n",
    "    row_index+=1\n",
    "compare.sort_values(by = ['Test Accuracy'], ascending = False, inplace = True)    \n",
    "compare"
   ]
  },
  {
   "cell_type": "markdown",
   "metadata": {},
   "source": [
    "### Performance Comparison of Every Model"
   ]
  },
  {
   "cell_type": "code",
   "execution_count": 37,
   "metadata": {},
   "outputs": [],
   "source": [
    "#plot performance comaparison \n",
    "def compare_plots(y_value,score):\n",
    "  plt.subplots(figsize=(15,8))\n",
    "  # color_palette(\"vlag\", as_cmap=True)\n",
    "  sn.barplot(x=\"Name\", y=y_value,palette='bright',data=compare,edgecolor=sn.color_palette('dark',7))\n",
    "  \n",
    "  plt.tick_params(axis='x',rotation=90,labelsize=22)\n",
    "  plt.tick_params(axis='y',rotation=0,labelsize=18)\n",
    "  plt.title('Comparing performance with '+y_value+'.' + '(TF-IDF)', fontsize=20)\n",
    "  plt.ylabel(score +' Score', fontsize=22)\n",
    "  plt.xlabel('Machine Learning Algorithms', fontsize=16)\n",
    "  plt.show()\n",
    "  return plt\n"
   ]
  },
  {
   "cell_type": "code",
   "execution_count": 38,
   "metadata": {},
   "outputs": [
    {
     "data": {
      "image/png": "[encoded data removed]",
      "text/plain": [
       "<Figure size 1080x576 with 1 Axes>"
      ]
     },
     "metadata": {
      "needs_background": "light"
     },
     "output_type": "display_data"
    }
   ],
   "source": [
    "# Performance conparion with respect to Accuracy\n",
    "compare_plots('Test Accuracy', 'Accuracy');"
   ]
  },
  {
   "cell_type": "code",
   "execution_count": 39,
   "metadata": {},
   "outputs": [
    {
     "data": {
      "image/png": "[encoded data removed]",
      "text/plain": [
       "<Figure size 1080x576 with 1 Axes>"
      ]
     },
     "metadata": {
      "needs_background": "light"
     },
     "output_type": "display_data"
    }
   ],
   "source": [
    "# Performance conparion with respect to F1 score\n",
    "compare_plots('Precision', 'Precision');"
   ]
  },
  {
   "cell_type": "code",
   "execution_count": 40,
   "metadata": {},
   "outputs": [
    {
     "data": {
      "image/png": "[encoded data removed]",
      "text/plain": [
       "<Figure size 1080x576 with 1 Axes>"
      ]
     },
     "metadata": {
      "needs_background": "light"
     },
     "output_type": "display_data"
    }
   ],
   "source": [
    "# Performance conparion with respect to F1 score\n",
    "compare_plots('Recall', 'Recall');"
   ]
  },
  {
   "cell_type": "code",
   "execution_count": 41,
   "metadata": {},
   "outputs": [
    {
     "data": {
      "image/png": "[encoded data removed]",
      "text/plain": [
       "<Figure size 1080x576 with 1 Axes>"
      ]
     },
     "metadata": {
      "needs_background": "light"
     },
     "output_type": "display_data"
    }
   ],
   "source": [
    "# Performance conparion with respect to F1 score\n",
    "compare_plots('F1 Score', 'F1 Score');"
   ]
  },
  {
   "cell_type": "markdown",
   "metadata": {},
   "source": [
    "## Model Validation \n",
    "\n",
    "### Confusion Matrix"
   ]
  },
  {
   "cell_type": "code",
   "execution_count": 42,
   "metadata": {},
   "outputs": [],
   "source": [
    "def conf_matrix(pred,classfier):\n",
    "  predictions = pred\n",
    "  y_pred = np.array(predictions)\n",
    "  cm = confusion_matrix(y_test, y_pred) \n",
    "\n",
    "  cm_df = pd.DataFrame(cm,\n",
    "                       index = ['fear','anger','joy','sadness'], \n",
    "                       columns = ['fear','anger','joy','sadness'])\n",
    "  plt.figure(figsize=(8,6))\n",
    "  sn.heatmap(cm_df, annot=True,cmap=\"BuPu\", fmt='g')\n",
    "  plt.title('\\n'+classfier+' Accuracy: {0:.2f}'.format(accuracy_score(y_test, y_pred)*100))\n",
    "  plt.ylabel('True label',weight = 'bold',fontsize=10)\n",
    "  plt.xlabel('Predicted label', weight = 'bold',fontsize=10)\n",
    "  plt.tick_params(rotation=0,axis='y', labelsize=14)\n",
    "  plt.tick_params(rotation=0,axis='x', labelsize=14)\n",
    "  plt.xticks(rotation = 0)\n",
    "  plt.yticks(rotation = 90)\n",
    "\n",
    "  plt.show()\n",
    "  plt.close()"
   ]
  },
  {
   "cell_type": "code",
   "execution_count": 43,
   "metadata": {},
   "outputs": [
    {
     "data": {
      "image/png": "[encoded data removed]",
      "text/plain": [
       "<Figure size 576x432 with 2 Axes>"
      ]
     },
     "metadata": {
      "needs_background": "light"
     },
     "output_type": "display_data"
    }
   ],
   "source": [
    "conf_matrix(TFIDF_svc_rbf_pipeline_prediction, 'SVC-rbf Model')"
   ]
  }
 ],
 "metadata": {
  "colab": {
   "collapsed_sections": [],
   "name": " BanglaFoodReview.ipynb",
   "provenance": [
    {
     "file_id": "14lBrVA9HUA-Qi-YtepK6y5QW53_1cPFH",
     "timestamp": 1647866433754
    }
   ]
  },
  "kernelspec": {
   "display_name": "Python 3 (ipykernel)",
   "language": "python",
   "name": "python3"
  },
  "language_info": {
   "codemirror_mode": {
    "name": "ipython",
    "version": 3
   },
   "file_extension": ".py",
   "mimetype": "text/x-python",
   "name": "python",
   "nbconvert_exporter": "python",
   "pygments_lexer": "ipython3",
   "version": "3.7.11"
  }
 },
 "nbformat": 4,
 "nbformat_minor": 1
}
